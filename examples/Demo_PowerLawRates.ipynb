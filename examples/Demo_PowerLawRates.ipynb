{
 "cells": [
  {
   "cell_type": "markdown",
   "metadata": {},
   "source": [
    "This notebook shows the use of `PowerLawRates`. This is a class meant to make the use of\n",
    "rates that depend on the redshift through a power law easier. It follows the API set out\n",
    "by `population_param_abstracts.BaseRateDistributions`."
   ]
  },
  {
   "cell_type": "code",
   "execution_count": 1,
   "metadata": {},
   "outputs": [
    {
     "name": "stdout",
     "output_type": "stream",
     "text": [
      "0.1.3dev11\n"
     ]
    }
   ],
   "source": [
    "from varpop import PowerLawRates\n",
    "import varpop\n",
    "print(varpop.__version__)"
   ]
  },
  {
   "cell_type": "code",
   "execution_count": 2,
   "metadata": {},
   "outputs": [],
   "source": [
    "import numpy as np"
   ]
  },
  {
   "cell_type": "code",
   "execution_count": 3,
   "metadata": {},
   "outputs": [],
   "source": [
    "%matplotlib inline\n",
    "import matplotlib.pyplot as plt\n",
    "import seaborn as sns\n",
    "sns.set_style('whitegrid')"
   ]
  },
  {
   "cell_type": "markdown",
   "metadata": {},
   "source": [
    "## Instantiate the class"
   ]
  },
  {
   "cell_type": "code",
   "execution_count": 4,
   "metadata": {},
   "outputs": [],
   "source": [
    "rng = np.random.RandomState(1)\n",
    "pl = PowerLawRates(rng, sky_area=5, zlower=1.0e-8, zhigher=1.2, num_bins=200, \n",
    "                   sky_fraction=None, zbin_edges=None, beta_rate=1.0)"
   ]
  },
  {
   "cell_type": "markdown",
   "metadata": {},
   "source": [
    "The settings can be acccessed throughi the following attributes"
   ]
  },
  {
   "cell_type": "code",
   "execution_count": 5,
   "metadata": {},
   "outputs": [
    {
     "data": {
      "text/plain": [
       "<mtrand.RandomState at 0x1a1a463ab0>"
      ]
     },
     "execution_count": 5,
     "metadata": {},
     "output_type": "execute_result"
    }
   ],
   "source": [
    "pl.randomState"
   ]
  },
  {
   "cell_type": "code",
   "execution_count": 6,
   "metadata": {},
   "outputs": [
    {
     "data": {
      "text/plain": [
       "5"
      ]
     },
     "execution_count": 6,
     "metadata": {},
     "output_type": "execute_result"
    }
   ],
   "source": [
    "# This is the area of the sky used in sq degrees\n",
    "pl.sky_area"
   ]
  },
  {
   "cell_type": "markdown",
   "metadata": {},
   "source": [
    "## Bin Edges : \n",
    "This is the actual set of the bin edges used in the calculation.\n",
    "These are the fundamental quantities irrespective of whether the edges are set\n",
    "using `zbin_edges` or `zlower`, `zhigher`, `num_bins`"
   ]
  },
  {
   "cell_type": "code",
   "execution_count": 7,
   "metadata": {},
   "outputs": [
    {
     "data": {
      "text/plain": [
       "array([1.00000000e-08, 6.03016070e-03, 1.20603114e-02, 1.80904621e-02,\n",
       "       2.41206128e-02, 3.01507635e-02, 3.61809142e-02, 4.22110649e-02,\n",
       "       4.82412156e-02, 5.42713663e-02, 6.03015170e-02, 6.63316677e-02,\n",
       "       7.23618184e-02, 7.83919691e-02, 8.44221198e-02, 9.04522706e-02,\n",
       "       9.64824213e-02, 1.02512572e-01, 1.08542723e-01, 1.14572873e-01,\n",
       "       1.20603024e-01, 1.26633175e-01, 1.32663325e-01, 1.38693476e-01,\n",
       "       1.44723627e-01, 1.50753778e-01, 1.56783928e-01, 1.62814079e-01,\n",
       "       1.68844230e-01, 1.74874380e-01, 1.80904531e-01, 1.86934682e-01,\n",
       "       1.92964833e-01, 1.98994983e-01, 2.05025134e-01, 2.11055285e-01,\n",
       "       2.17085435e-01, 2.23115586e-01, 2.29145737e-01, 2.35175887e-01,\n",
       "       2.41206038e-01, 2.47236189e-01, 2.53266340e-01, 2.59296490e-01,\n",
       "       2.65326641e-01, 2.71356792e-01, 2.77386942e-01, 2.83417093e-01,\n",
       "       2.89447244e-01, 2.95477394e-01, 3.01507545e-01, 3.07537696e-01,\n",
       "       3.13567847e-01, 3.19597997e-01, 3.25628148e-01, 3.31658299e-01,\n",
       "       3.37688449e-01, 3.43718600e-01, 3.49748751e-01, 3.55778902e-01,\n",
       "       3.61809052e-01, 3.67839203e-01, 3.73869354e-01, 3.79899504e-01,\n",
       "       3.85929655e-01, 3.91959806e-01, 3.97989956e-01, 4.04020107e-01,\n",
       "       4.10050258e-01, 4.16080409e-01, 4.22110559e-01, 4.28140710e-01,\n",
       "       4.34170861e-01, 4.40201011e-01, 4.46231162e-01, 4.52261313e-01,\n",
       "       4.58291463e-01, 4.64321614e-01, 4.70351765e-01, 4.76381916e-01,\n",
       "       4.82412066e-01, 4.88442217e-01, 4.94472368e-01, 5.00502518e-01,\n",
       "       5.06532669e-01, 5.12562820e-01, 5.18592971e-01, 5.24623121e-01,\n",
       "       5.30653272e-01, 5.36683423e-01, 5.42713573e-01, 5.48743724e-01,\n",
       "       5.54773875e-01, 5.60804025e-01, 5.66834176e-01, 5.72864327e-01,\n",
       "       5.78894478e-01, 5.84924628e-01, 5.90954779e-01, 5.96984930e-01,\n",
       "       6.03015080e-01, 6.09045231e-01, 6.15075382e-01, 6.21105532e-01,\n",
       "       6.27135683e-01, 6.33165834e-01, 6.39195985e-01, 6.45226135e-01,\n",
       "       6.51256286e-01, 6.57286437e-01, 6.63316587e-01, 6.69346738e-01,\n",
       "       6.75376889e-01, 6.81407039e-01, 6.87437190e-01, 6.93467341e-01,\n",
       "       6.99497492e-01, 7.05527642e-01, 7.11557793e-01, 7.17587944e-01,\n",
       "       7.23618094e-01, 7.29648245e-01, 7.35678396e-01, 7.41708547e-01,\n",
       "       7.47738697e-01, 7.53768848e-01, 7.59798999e-01, 7.65829149e-01,\n",
       "       7.71859300e-01, 7.77889451e-01, 7.83919601e-01, 7.89949752e-01,\n",
       "       7.95979903e-01, 8.02010054e-01, 8.08040204e-01, 8.14070355e-01,\n",
       "       8.20100506e-01, 8.26130656e-01, 8.32160807e-01, 8.38190958e-01,\n",
       "       8.44221108e-01, 8.50251259e-01, 8.56281410e-01, 8.62311561e-01,\n",
       "       8.68341711e-01, 8.74371862e-01, 8.80402013e-01, 8.86432163e-01,\n",
       "       8.92462314e-01, 8.98492465e-01, 9.04522616e-01, 9.10552766e-01,\n",
       "       9.16582917e-01, 9.22613068e-01, 9.28643218e-01, 9.34673369e-01,\n",
       "       9.40703520e-01, 9.46733670e-01, 9.52763821e-01, 9.58793972e-01,\n",
       "       9.64824123e-01, 9.70854273e-01, 9.76884424e-01, 9.82914575e-01,\n",
       "       9.88944725e-01, 9.94974876e-01, 1.00100503e+00, 1.00703518e+00,\n",
       "       1.01306533e+00, 1.01909548e+00, 1.02512563e+00, 1.03115578e+00,\n",
       "       1.03718593e+00, 1.04321608e+00, 1.04924623e+00, 1.05527638e+00,\n",
       "       1.06130653e+00, 1.06733668e+00, 1.07336684e+00, 1.07939699e+00,\n",
       "       1.08542714e+00, 1.09145729e+00, 1.09748744e+00, 1.10351759e+00,\n",
       "       1.10954774e+00, 1.11557789e+00, 1.12160804e+00, 1.12763819e+00,\n",
       "       1.13366834e+00, 1.13969849e+00, 1.14572864e+00, 1.15175879e+00,\n",
       "       1.15778895e+00, 1.16381910e+00, 1.16984925e+00, 1.17587940e+00,\n",
       "       1.18190955e+00, 1.18793970e+00, 1.19396985e+00, 1.20000000e+00])"
      ]
     },
     "execution_count": 7,
     "metadata": {},
     "output_type": "execute_result"
    }
   ],
   "source": [
    "pl.zbin_edges"
   ]
  },
  {
   "cell_type": "markdown",
   "metadata": {},
   "source": [
    "The rate at each of these bins (at the mid point) of the redshifts defining the edges is given by the `volumetric_rate` and used for calculating the number of sources in the bin."
   ]
  },
  {
   "cell_type": "code",
   "execution_count": 8,
   "metadata": {},
   "outputs": [
    {
     "data": {
      "text/plain": [
       "array([2.59183583e-05, 3.53432159e-05, 4.71242879e-05])"
      ]
     },
     "execution_count": 8,
     "metadata": {},
     "output_type": "execute_result"
    }
   ],
   "source": [
    "pl.volumetric_rate(np.array([0.1, 0.5, 1.0]))"
   ]
  },
  {
   "cell_type": "markdown",
   "metadata": {},
   "source": [
    "### z_sample_size:\n",
    "The expected number of TDA sources in each of the redshift bins is given by the following expression. This could be improved by first sampling `z_samples` and then binning which I intend to add in time. The problem with the current method is demonstrated below, but it is fine for small bins"
   ]
  },
  {
   "cell_type": "code",
   "execution_count": 9,
   "metadata": {},
   "outputs": [
    {
     "data": {
      "text/plain": [
       "array([2.26416006e-03, 1.57728584e-02, 4.25807623e-02, 8.24596568e-02,\n",
       "       1.35181729e-01, 2.00519647e-01, 2.78246638e-01, 3.68136568e-01,\n",
       "       4.69964010e-01, 5.83504325e-01, 7.08533727e-01, 8.44829357e-01,\n",
       "       9.92169349e-01, 1.15033290e+00, 1.31910032e+00, 1.49825313e+00,\n",
       "       1.68757407e+00, 1.88684721e+00, 2.09585798e+00, 2.31439321e+00,\n",
       "       2.54224122e+00, 2.77919186e+00, 3.02503654e+00, 3.27956830e+00,\n",
       "       3.54258185e+00, 3.81387359e+00, 4.09324170e+00, 4.38048613e+00,\n",
       "       4.67540869e+00, 4.97781303e+00, 5.28750471e+00, 5.60429125e+00,\n",
       "       5.92798210e+00, 6.25838873e+00, 6.59532463e+00, 6.93860532e+00,\n",
       "       7.28804843e+00, 7.64347365e+00, 8.00470281e+00, 8.37155987e+00,\n",
       "       8.74387093e+00, 9.12146428e+00, 9.50417038e+00, 9.89182189e+00,\n",
       "       1.02842537e+01, 1.06813028e+01, 1.10828087e+01, 1.14886127e+01,\n",
       "       1.18985588e+01, 1.23124929e+01, 1.27302633e+01, 1.31517205e+01,\n",
       "       1.35767174e+01, 1.40051089e+01, 1.44367523e+01, 1.48715072e+01,\n",
       "       1.53092352e+01, 1.57498005e+01, 1.61930691e+01, 1.66389096e+01,\n",
       "       1.70871926e+01, 1.75377910e+01, 1.79905800e+01, 1.84454366e+01,\n",
       "       1.89022404e+01, 1.93608730e+01, 1.98212182e+01, 2.02831617e+01,\n",
       "       2.07465918e+01, 2.12113983e+01, 2.16774737e+01, 2.21447122e+01,\n",
       "       2.26130102e+01, 2.30822660e+01, 2.35523801e+01, 2.40232550e+01,\n",
       "       2.44947951e+01, 2.49669068e+01, 2.54394986e+01, 2.59124805e+01,\n",
       "       2.63857650e+01, 2.68592661e+01, 2.73328998e+01, 2.78065839e+01,\n",
       "       2.82802382e+01, 2.87537840e+01, 2.92271446e+01, 2.97002451e+01,\n",
       "       3.01730122e+01, 3.06453746e+01, 3.11172622e+01, 3.15886072e+01,\n",
       "       3.20593428e+01, 3.25294045e+01, 3.29987289e+01, 3.34672544e+01,\n",
       "       3.39349210e+01, 3.44016701e+01, 3.48674448e+01, 3.53321895e+01,\n",
       "       3.57958503e+01, 3.62583746e+01, 3.67197112e+01, 3.71798105e+01,\n",
       "       3.76386240e+01, 3.80961049e+01, 3.85522075e+01, 3.90068876e+01,\n",
       "       3.94601020e+01, 3.99118091e+01, 4.03619684e+01, 4.08105407e+01,\n",
       "       4.12574879e+01, 4.17027733e+01, 4.21463611e+01, 4.25882168e+01,\n",
       "       4.30283071e+01, 4.34665997e+01, 4.39030634e+01, 4.43376681e+01,\n",
       "       4.47703846e+01, 4.52011851e+01, 4.56300424e+01, 4.60569305e+01,\n",
       "       4.64818244e+01, 4.69046998e+01, 4.73255337e+01, 4.77443037e+01,\n",
       "       4.81609885e+01, 4.85755676e+01, 4.89880213e+01, 4.93983309e+01,\n",
       "       4.98064783e+01, 5.02124464e+01, 5.06162189e+01, 5.10177800e+01,\n",
       "       5.14171151e+01, 5.18142100e+01, 5.22090513e+01, 5.26016263e+01,\n",
       "       5.29919231e+01, 5.33799304e+01, 5.37656375e+01, 5.41490346e+01,\n",
       "       5.45301121e+01, 5.49088614e+01, 5.52852745e+01, 5.56593436e+01,\n",
       "       5.60310620e+01, 5.64004231e+01, 5.67674212e+01, 5.71320509e+01,\n",
       "       5.74943075e+01, 5.78541867e+01, 5.82116848e+01, 5.85667984e+01,\n",
       "       5.89195247e+01, 5.92698615e+01, 5.96178067e+01, 5.99633590e+01,\n",
       "       6.03065173e+01, 6.06472810e+01, 6.09856500e+01, 6.13216244e+01,\n",
       "       6.16552047e+01, 6.19863920e+01, 6.23151876e+01, 6.26415931e+01,\n",
       "       6.29656106e+01, 6.32872425e+01, 6.36064913e+01, 6.39233602e+01,\n",
       "       6.42378523e+01, 6.45499715e+01, 6.48597214e+01, 6.51671064e+01,\n",
       "       6.54721309e+01, 6.57747997e+01, 6.60751176e+01, 6.63730900e+01,\n",
       "       6.66687223e+01, 6.69620202e+01, 6.72529897e+01, 6.75416369e+01,\n",
       "       6.78279683e+01, 6.81119904e+01, 6.83937100e+01, 6.86731341e+01,\n",
       "       6.89502698e+01, 6.92251245e+01, 6.94977058e+01, 6.97680212e+01,\n",
       "       7.00360787e+01, 7.03018864e+01, 7.05654522e+01, 7.08267846e+01,\n",
       "       7.10858921e+01, 7.13427831e+01, 7.15974664e+01])"
      ]
     },
     "execution_count": 9,
     "metadata": {},
     "output_type": "execute_result"
    }
   ],
   "source": [
    "pl.z_sample_sizes"
   ]
  },
  {
   "cell_type": "markdown",
   "metadata": {},
   "source": [
    "## z_samples\n",
    "The actual samples of redshift can be obtained through \n"
   ]
  },
  {
   "cell_type": "code",
   "execution_count": 10,
   "metadata": {},
   "outputs": [
    {
     "data": {
      "text/plain": [
       "array([0.06971175, 0.07641245, 0.08051717, ..., 1.19437457, 1.19677256,\n",
       "       1.19961599])"
      ]
     },
     "execution_count": 10,
     "metadata": {},
     "output_type": "execute_result"
    }
   ],
   "source": [
    "pl.z_samples"
   ]
  },
  {
   "cell_type": "markdown",
   "metadata": {},
   "source": [
    "    One can compare the size of `z_samples` and the expected size, `z_sample_sizes.sum()`"
   ]
  },
  {
   "cell_type": "code",
   "execution_count": 11,
   "metadata": {},
   "outputs": [
    {
     "data": {
      "text/plain": [
       "6910.968080056728"
      ]
     },
     "execution_count": 11,
     "metadata": {},
     "output_type": "execute_result"
    }
   ],
   "source": [
    "pl.z_sample_sizes.sum()"
   ]
  },
  {
   "cell_type": "markdown",
   "metadata": {},
   "source": [
    "# A Comparison for SN"
   ]
  },
  {
   "cell_type": "markdown",
   "metadata": {},
   "source": [
    "Let us choose the the canonical values for SNIa rates `alpha_rate` = 2.6e-5, and `beta_rate` = 1.0 (there are cases where this number is reported to be `1.5`, but we will ignore that for the simplicity of the limiting case. This means that the number density in each redshift bin is \n",
    "\n",
    "```n(z) = volumetric rate(z) * survey Time / (1 + z) = alpha_rate * survey Time * (h/0.7)^3``` "
   ]
  },
  {
   "cell_type": "markdown",
   "metadata": {},
   "source": [
    "Thus the expected number at z < 1.2  is Comoving Vol (z=1.2) * sky_fraction * alpha * (h/0.7)**3 and should match `pl.z_sample_size.sum()` for a sanity check"
   ]
  },
  {
   "cell_type": "code",
   "execution_count": 12,
   "metadata": {},
   "outputs": [
    {
     "data": {
      "text/plain": [
       "6910.968080056729"
      ]
     },
     "execution_count": 12,
     "metadata": {},
     "output_type": "execute_result"
    }
   ],
   "source": [
    "pl.cosmology.comoving_volume(1.2).value * ((5* np.radians(1)**2)/np.pi/4.) * pl.alpha_rate * 10. * (pl.cosmology.h/0.7)**3"
   ]
  },
  {
   "cell_type": "code",
   "execution_count": 13,
   "metadata": {},
   "outputs": [
    {
     "data": {
      "text/plain": [
       "6910.968080056728"
      ]
     },
     "execution_count": 13,
     "metadata": {},
     "output_type": "execute_result"
    }
   ],
   "source": [
    "pl.z_sample_sizes.sum()"
   ]
  }
 ],
 "metadata": {
  "kernelspec": {
   "display_name": "Python 3",
   "language": "python",
   "name": "python3"
  },
  "language_info": {
   "codemirror_mode": {
    "name": "ipython",
    "version": 3
   },
   "file_extension": ".py",
   "mimetype": "text/x-python",
   "name": "python",
   "nbconvert_exporter": "python",
   "pygments_lexer": "ipython3",
   "version": "3.7.1"
  }
 },
 "nbformat": 4,
 "nbformat_minor": 2
}
