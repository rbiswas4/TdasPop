{
 "cells": [
  {
   "cell_type": "code",
   "execution_count": 1,
   "metadata": {},
   "outputs": [],
   "source": [
    "from tdaspop import BasePopulation"
   ]
  },
  {
   "cell_type": "code",
   "execution_count": 2,
   "metadata": {},
   "outputs": [],
   "source": [
    "import pandas as pd"
   ]
  },
  {
   "cell_type": "code",
   "execution_count": 3,
   "metadata": {},
   "outputs": [],
   "source": [
    "class StupidPopulation(BasePopulation):\n",
    "    def __init__(self):\n",
    "        self.t0 = [59580.03, 59580.05]\n",
    "        self.f = [0.002, 0.004]\n",
    "        self.minvals = [-0.2, -0.5]\n",
    "        self.maxvals = [0.5, 1.0]\n",
    "        self._paramsTable = None\n",
    "    \n",
    "    @property\n",
    "    def rng_model(self):\n",
    "        return None\n",
    "    \n",
    "    @property\n",
    "    def mjdmax(self):\n",
    "        return self.paramsTable.t0.max()\n",
    "    \n",
    "    @property\n",
    "    def mjdmin(self):\n",
    "        return self.paramsTable.t0.min()\n",
    "    \n",
    "    def logpdf(self):\n",
    "        return None\n",
    "    \n",
    "    @property\n",
    "    def paramsTable(self):\n",
    "        if self._paramsTable is None:\n",
    "            df = pd.DataFrame(dict(t0=self.t0, f=self.f, minv=self.minvals,\n",
    "                               maxv=self.maxvals, idx=self.idxvalues))\n",
    "            self._paramsTable = df.set_index('idx')\n",
    "            \n",
    "        return self._paramsTable\n",
    "    \n",
    "    def modelParams(self, idx):\n",
    "        return self._paramsTable.loc[idx]\n",
    "    \n",
    "    @property\n",
    "    def idxvalues(self):\n",
    "        return list(x for x in (0, 1))"
   ]
  },
  {
   "cell_type": "code",
   "execution_count": 4,
   "metadata": {},
   "outputs": [],
   "source": [
    "sp = StupidPopulation()"
   ]
  },
  {
   "cell_type": "code",
   "execution_count": 5,
   "metadata": {},
   "outputs": [
    {
     "data": {
      "text/html": [
       "<div>\n",
       "<style scoped>\n",
       "    .dataframe tbody tr th:only-of-type {\n",
       "        vertical-align: middle;\n",
       "    }\n",
       "\n",
       "    .dataframe tbody tr th {\n",
       "        vertical-align: top;\n",
       "    }\n",
       "\n",
       "    .dataframe thead th {\n",
       "        text-align: right;\n",
       "    }\n",
       "</style>\n",
       "<table border=\"1\" class=\"dataframe\">\n",
       "  <thead>\n",
       "    <tr style=\"text-align: right;\">\n",
       "      <th></th>\n",
       "      <th>t0</th>\n",
       "      <th>f</th>\n",
       "      <th>minv</th>\n",
       "      <th>maxv</th>\n",
       "    </tr>\n",
       "    <tr>\n",
       "      <th>idx</th>\n",
       "      <th></th>\n",
       "      <th></th>\n",
       "      <th></th>\n",
       "      <th></th>\n",
       "    </tr>\n",
       "  </thead>\n",
       "  <tbody>\n",
       "    <tr>\n",
       "      <th>0</th>\n",
       "      <td>59580.03</td>\n",
       "      <td>0.002</td>\n",
       "      <td>-0.2</td>\n",
       "      <td>0.5</td>\n",
       "    </tr>\n",
       "    <tr>\n",
       "      <th>1</th>\n",
       "      <td>59580.05</td>\n",
       "      <td>0.004</td>\n",
       "      <td>-0.5</td>\n",
       "      <td>1.0</td>\n",
       "    </tr>\n",
       "  </tbody>\n",
       "</table>\n",
       "</div>"
      ],
      "text/plain": [
       "           t0      f  minv  maxv\n",
       "idx                             \n",
       "0    59580.03  0.002  -0.2   0.5\n",
       "1    59580.05  0.004  -0.5   1.0"
      ]
     },
     "execution_count": 5,
     "metadata": {},
     "output_type": "execute_result"
    }
   ],
   "source": [
    "sp.paramsTable"
   ]
  },
  {
   "cell_type": "code",
   "execution_count": 6,
   "metadata": {},
   "outputs": [
    {
     "data": {
      "text/plain": [
       "t0      59580.030\n",
       "f           0.002\n",
       "minv       -0.200\n",
       "maxv        0.500\n",
       "Name: 0, dtype: float64"
      ]
     },
     "execution_count": 6,
     "metadata": {},
     "output_type": "execute_result"
    }
   ],
   "source": [
    "sp.modelParams(0)"
   ]
  },
  {
   "cell_type": "code",
   "execution_count": 7,
   "metadata": {},
   "outputs": [
    {
     "data": {
      "text/plain": [
       "[0, 1]"
      ]
     },
     "execution_count": 7,
     "metadata": {},
     "output_type": "execute_result"
    }
   ],
   "source": [
    "sp.idxvalues"
   ]
  },
  {
   "cell_type": "code",
   "execution_count": 8,
   "metadata": {},
   "outputs": [
    {
     "data": {
      "text/plain": [
       "2"
      ]
     },
     "execution_count": 8,
     "metadata": {},
     "output_type": "execute_result"
    }
   ],
   "source": [
    "sp.numSources"
   ]
  },
  {
   "cell_type": "code",
   "execution_count": null,
   "metadata": {},
   "outputs": [],
   "source": []
  }
 ],
 "metadata": {
  "anaconda-cloud": {},
  "kernelspec": {
   "display_name": "Python 3",
   "language": "python",
   "name": "python3"
  },
  "language_info": {
   "codemirror_mode": {
    "name": "ipython",
    "version": 3
   },
   "file_extension": ".py",
   "mimetype": "text/x-python",
   "name": "python",
   "nbconvert_exporter": "python",
   "pygments_lexer": "ipython3",
   "version": "3.7.1"
  }
 },
 "nbformat": 4,
 "nbformat_minor": 1
}
